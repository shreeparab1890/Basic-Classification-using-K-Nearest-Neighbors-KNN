{
 "cells": [
  {
   "cell_type": "code",
   "execution_count": 1,
   "id": "aa8e829b",
   "metadata": {
    "execution": {
     "iopub.execute_input": "2022-12-26T07:19:18.424065Z",
     "iopub.status.busy": "2022-12-26T07:19:18.423514Z",
     "iopub.status.idle": "2022-12-26T07:19:19.770030Z",
     "shell.execute_reply": "2022-12-26T07:19:19.768539Z"
    },
    "papermill": {
     "duration": 1.356596,
     "end_time": "2022-12-26T07:19:19.773261",
     "exception": false,
     "start_time": "2022-12-26T07:19:18.416665",
     "status": "completed"
    },
    "tags": []
   },
   "outputs": [],
   "source": [
    "import matplotlib.pyplot as plt\n",
    "import numpy as np\n",
    "from sklearn import datasets\n",
    "from sklearn.neighbors import KNeighborsClassifier\n",
    "from sklearn.metrics import mean_squared_error\n",
    "#from sklearn.model_selection import train_test_split"
   ]
  },
  {
   "cell_type": "code",
   "execution_count": 2,
   "id": "844b2f8f",
   "metadata": {
    "_cell_guid": "b1076dfc-b9ad-4769-8c92-a6c4dae69d19",
    "_uuid": "8f2839f25d086af736a60e9eeb907d3b93b6e0e5",
    "execution": {
     "iopub.execute_input": "2022-12-26T07:19:19.783303Z",
     "iopub.status.busy": "2022-12-26T07:19:19.782797Z",
     "iopub.status.idle": "2022-12-26T07:19:19.795038Z",
     "shell.execute_reply": "2022-12-26T07:19:19.793621Z"
    },
    "papermill": {
     "duration": 0.020835,
     "end_time": "2022-12-26T07:19:19.798029",
     "exception": false,
     "start_time": "2022-12-26T07:19:19.777194",
     "status": "completed"
    },
    "tags": []
   },
   "outputs": [],
   "source": [
    "iris = datasets.load_iris()"
   ]
  },
  {
   "cell_type": "code",
   "execution_count": 3,
   "id": "826dc947",
   "metadata": {
    "execution": {
     "iopub.execute_input": "2022-12-26T07:19:19.807722Z",
     "iopub.status.busy": "2022-12-26T07:19:19.807234Z",
     "iopub.status.idle": "2022-12-26T07:19:19.818733Z",
     "shell.execute_reply": "2022-12-26T07:19:19.815949Z"
    },
    "papermill": {
     "duration": 0.020281,
     "end_time": "2022-12-26T07:19:19.821946",
     "exception": false,
     "start_time": "2022-12-26T07:19:19.801665",
     "status": "completed"
    },
    "tags": []
   },
   "outputs": [
    {
     "name": "stdout",
     "output_type": "stream",
     "text": [
      ".. _iris_dataset:\n",
      "\n",
      "Iris plants dataset\n",
      "--------------------\n",
      "\n",
      "**Data Set Characteristics:**\n",
      "\n",
      "    :Number of Instances: 150 (50 in each of three classes)\n",
      "    :Number of Attributes: 4 numeric, predictive attributes and the class\n",
      "    :Attribute Information:\n",
      "        - sepal length in cm\n",
      "        - sepal width in cm\n",
      "        - petal length in cm\n",
      "        - petal width in cm\n",
      "        - class:\n",
      "                - Iris-Setosa\n",
      "                - Iris-Versicolour\n",
      "                - Iris-Virginica\n",
      "                \n",
      "    :Summary Statistics:\n",
      "\n",
      "    ============== ==== ==== ======= ===== ====================\n",
      "                    Min  Max   Mean    SD   Class Correlation\n",
      "    ============== ==== ==== ======= ===== ====================\n",
      "    sepal length:   4.3  7.9   5.84   0.83    0.7826\n",
      "    sepal width:    2.0  4.4   3.05   0.43   -0.4194\n",
      "    petal length:   1.0  6.9   3.76   1.76    0.9490  (high!)\n",
      "    petal width:    0.1  2.5   1.20   0.76    0.9565  (high!)\n",
      "    ============== ==== ==== ======= ===== ====================\n",
      "\n",
      "    :Missing Attribute Values: None\n",
      "    :Class Distribution: 33.3% for each of 3 classes.\n",
      "    :Creator: R.A. Fisher\n",
      "    :Donor: Michael Marshall (MARSHALL%PLU@io.arc.nasa.gov)\n",
      "    :Date: July, 1988\n",
      "\n",
      "The famous Iris database, first used by Sir R.A. Fisher. The dataset is taken\n",
      "from Fisher's paper. Note that it's the same as in R, but not as in the UCI\n",
      "Machine Learning Repository, which has two wrong data points.\n",
      "\n",
      "This is perhaps the best known database to be found in the\n",
      "pattern recognition literature.  Fisher's paper is a classic in the field and\n",
      "is referenced frequently to this day.  (See Duda & Hart, for example.)  The\n",
      "data set contains 3 classes of 50 instances each, where each class refers to a\n",
      "type of iris plant.  One class is linearly separable from the other 2; the\n",
      "latter are NOT linearly separable from each other.\n",
      "\n",
      ".. topic:: References\n",
      "\n",
      "   - Fisher, R.A. \"The use of multiple measurements in taxonomic problems\"\n",
      "     Annual Eugenics, 7, Part II, 179-188 (1936); also in \"Contributions to\n",
      "     Mathematical Statistics\" (John Wiley, NY, 1950).\n",
      "   - Duda, R.O., & Hart, P.E. (1973) Pattern Classification and Scene Analysis.\n",
      "     (Q327.D83) John Wiley & Sons.  ISBN 0-471-22361-1.  See page 218.\n",
      "   - Dasarathy, B.V. (1980) \"Nosing Around the Neighborhood: A New System\n",
      "     Structure and Classification Rule for Recognition in Partially Exposed\n",
      "     Environments\".  IEEE Transactions on Pattern Analysis and Machine\n",
      "     Intelligence, Vol. PAMI-2, No. 1, 67-71.\n",
      "   - Gates, G.W. (1972) \"The Reduced Nearest Neighbor Rule\".  IEEE Transactions\n",
      "     on Information Theory, May 1972, 431-433.\n",
      "   - See also: 1988 MLC Proceedings, 54-64.  Cheeseman et al\"s AUTOCLASS II\n",
      "     conceptual clustering system finds 3 classes in the data.\n",
      "   - Many, many more ...\n"
     ]
    }
   ],
   "source": [
    "print(iris.DESCR)"
   ]
  },
  {
   "cell_type": "code",
   "execution_count": 4,
   "id": "15d67ed5",
   "metadata": {
    "execution": {
     "iopub.execute_input": "2022-12-26T07:19:19.831903Z",
     "iopub.status.busy": "2022-12-26T07:19:19.831476Z",
     "iopub.status.idle": "2022-12-26T07:19:19.837075Z",
     "shell.execute_reply": "2022-12-26T07:19:19.835945Z"
    },
    "papermill": {
     "duration": 0.013786,
     "end_time": "2022-12-26T07:19:19.839776",
     "exception": false,
     "start_time": "2022-12-26T07:19:19.825990",
     "status": "completed"
    },
    "tags": []
   },
   "outputs": [],
   "source": [
    "# Labels\n",
    "# Iris-Setosa 0\n",
    "# Iris-Versicolour 1\n",
    "# Iris-Virginica 2\n",
    "\n",
    "data = iris.data\n",
    "labels = iris.target"
   ]
  },
  {
   "cell_type": "code",
   "execution_count": 5,
   "id": "3bc36299",
   "metadata": {
    "execution": {
     "iopub.execute_input": "2022-12-26T07:19:19.849104Z",
     "iopub.status.busy": "2022-12-26T07:19:19.848646Z",
     "iopub.status.idle": "2022-12-26T07:19:19.856790Z",
     "shell.execute_reply": "2022-12-26T07:19:19.855038Z"
    },
    "papermill": {
     "duration": 0.015845,
     "end_time": "2022-12-26T07:19:19.859421",
     "exception": false,
     "start_time": "2022-12-26T07:19:19.843576",
     "status": "completed"
    },
    "tags": []
   },
   "outputs": [
    {
     "name": "stdout",
     "output_type": "stream",
     "text": [
      "[5.1 3.5 1.4 0.2] 0\n"
     ]
    }
   ],
   "source": [
    "print(data[0], labels[0])"
   ]
  },
  {
   "cell_type": "markdown",
   "id": "d23b0d02",
   "metadata": {
    "papermill": {
     "duration": 0.003558,
     "end_time": "2022-12-26T07:19:19.867255",
     "exception": false,
     "start_time": "2022-12-26T07:19:19.863697",
     "status": "completed"
    },
    "tags": []
   },
   "source": [
    "**Training the model**"
   ]
  },
  {
   "cell_type": "code",
   "execution_count": 6,
   "id": "a790e4f7",
   "metadata": {
    "execution": {
     "iopub.execute_input": "2022-12-26T07:19:19.877417Z",
     "iopub.status.busy": "2022-12-26T07:19:19.876376Z",
     "iopub.status.idle": "2022-12-26T07:19:19.882702Z",
     "shell.execute_reply": "2022-12-26T07:19:19.881488Z"
    },
    "papermill": {
     "duration": 0.014323,
     "end_time": "2022-12-26T07:19:19.885391",
     "exception": false,
     "start_time": "2022-12-26T07:19:19.871068",
     "status": "completed"
    },
    "tags": []
   },
   "outputs": [],
   "source": [
    "classifier = KNeighborsClassifier()"
   ]
  },
  {
   "cell_type": "code",
   "execution_count": 7,
   "id": "839f2488",
   "metadata": {
    "execution": {
     "iopub.execute_input": "2022-12-26T07:19:19.896240Z",
     "iopub.status.busy": "2022-12-26T07:19:19.894883Z",
     "iopub.status.idle": "2022-12-26T07:19:19.909284Z",
     "shell.execute_reply": "2022-12-26T07:19:19.908054Z"
    },
    "papermill": {
     "duration": 0.022244,
     "end_time": "2022-12-26T07:19:19.911779",
     "exception": false,
     "start_time": "2022-12-26T07:19:19.889535",
     "status": "completed"
    },
    "tags": []
   },
   "outputs": [
    {
     "data": {
      "text/plain": [
       "KNeighborsClassifier()"
      ]
     },
     "execution_count": 7,
     "metadata": {},
     "output_type": "execute_result"
    }
   ],
   "source": [
    "classifier.fit(data,labels )"
   ]
  },
  {
   "cell_type": "code",
   "execution_count": 8,
   "id": "fbce6e94",
   "metadata": {
    "execution": {
     "iopub.execute_input": "2022-12-26T07:19:19.921741Z",
     "iopub.status.busy": "2022-12-26T07:19:19.921267Z",
     "iopub.status.idle": "2022-12-26T07:19:19.927928Z",
     "shell.execute_reply": "2022-12-26T07:19:19.926942Z"
    },
    "papermill": {
     "duration": 0.014753,
     "end_time": "2022-12-26T07:19:19.930512",
     "exception": false,
     "start_time": "2022-12-26T07:19:19.915759",
     "status": "completed"
    },
    "tags": []
   },
   "outputs": [],
   "source": [
    "predictions = classifier.predict([[14,2,1,1]])"
   ]
  },
  {
   "cell_type": "code",
   "execution_count": 9,
   "id": "cb6c194b",
   "metadata": {
    "execution": {
     "iopub.execute_input": "2022-12-26T07:19:19.940759Z",
     "iopub.status.busy": "2022-12-26T07:19:19.939998Z",
     "iopub.status.idle": "2022-12-26T07:19:19.945667Z",
     "shell.execute_reply": "2022-12-26T07:19:19.944530Z"
    },
    "papermill": {
     "duration": 0.013812,
     "end_time": "2022-12-26T07:19:19.948403",
     "exception": false,
     "start_time": "2022-12-26T07:19:19.934591",
     "status": "completed"
    },
    "tags": []
   },
   "outputs": [
    {
     "name": "stdout",
     "output_type": "stream",
     "text": [
      "[1]\n"
     ]
    }
   ],
   "source": [
    "print(predictions)"
   ]
  },
  {
   "cell_type": "code",
   "execution_count": null,
   "id": "76048540",
   "metadata": {
    "papermill": {
     "duration": 0.003662,
     "end_time": "2022-12-26T07:19:19.956293",
     "exception": false,
     "start_time": "2022-12-26T07:19:19.952631",
     "status": "completed"
    },
    "tags": []
   },
   "outputs": [],
   "source": []
  }
 ],
 "metadata": {
  "kernelspec": {
   "display_name": "Python 3",
   "language": "python",
   "name": "python3"
  },
  "language_info": {
   "codemirror_mode": {
    "name": "ipython",
    "version": 3
   },
   "file_extension": ".py",
   "mimetype": "text/x-python",
   "name": "python",
   "nbconvert_exporter": "python",
   "pygments_lexer": "ipython3",
   "version": "3.7.12"
  },
  "papermill": {
   "default_parameters": {},
   "duration": 14.149472,
   "end_time": "2022-12-26T07:19:20.783397",
   "environment_variables": {},
   "exception": null,
   "input_path": "__notebook__.ipynb",
   "output_path": "__notebook__.ipynb",
   "parameters": {},
   "start_time": "2022-12-26T07:19:06.633925",
   "version": "2.3.4"
  }
 },
 "nbformat": 4,
 "nbformat_minor": 5
}
